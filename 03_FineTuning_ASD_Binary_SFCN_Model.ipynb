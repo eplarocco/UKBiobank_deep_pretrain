{
 "cells": [
  {
   "cell_type": "markdown",
   "id": "cbf5038f-f8d9-451d-a25b-df6c76455704",
   "metadata": {},
   "source": [
    "# Fine Tune for Sex Prediction on ABIDEI Dataset\n",
    "### Train/val/test from all sites - OOD test on ABIDEII"
   ]
  },
  {
   "cell_type": "code",
   "execution_count": null,
   "id": "fe7ee27b-2bb8-4eb4-9462-84315e79211f",
   "metadata": {},
   "outputs": [],
   "source": [
    "# Train from Terminal - script train_sfcn_model.py\n",
    "\n",
    "#!cd UKBiobank_deep_pretrain\n",
    "#!source ../pretrainedresnet2/bin/activate\n",
    "#example run:\n",
    "#!python ./train_sfcn_model.py --lr 0.0001 --batch 8 --epochs 15"
   ]
  }
 ],
 "metadata": {
  "kernelspec": {
   "display_name": "Python (brain_model_env)",
   "language": "python",
   "name": "brain_model_env"
  },
  "language_info": {
   "codemirror_mode": {
    "name": "ipython",
    "version": 3
   },
   "file_extension": ".py",
   "mimetype": "text/x-python",
   "name": "python",
   "nbconvert_exporter": "python",
   "pygments_lexer": "ipython3",
   "version": "3.11.6"
  }
 },
 "nbformat": 4,
 "nbformat_minor": 5
}
