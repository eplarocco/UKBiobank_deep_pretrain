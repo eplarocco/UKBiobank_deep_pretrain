{
 "cells": [
  {
   "cell_type": "markdown",
   "id": "cbf5038f-f8d9-451d-a25b-df6c76455704",
   "metadata": {},
   "source": [
    "# Fine Tune for Sex Prediction on ABIDEI Dataset\n",
    "### Train/val/test from all sites - OOD test on ABIDEII"
   ]
  },
  {
   "cell_type": "code",
   "execution_count": 1,
   "id": "b7b54401-0ec3-4860-bf2a-8b6560ea9cef",
   "metadata": {},
   "outputs": [],
   "source": [
    "from dp_model.model_files.sfcn import SFCN\n",
    "from dp_model import dp_loss as dpl\n",
    "from dp_model import dp_utils as dpu\n",
    "import torch\n",
    "import torch.nn.functional as F\n",
    "import numpy as np\n",
    "import matplotlib.pyplot as plt\n",
    "import os\n",
    "import pandas as pd\n",
    "import nibabel as nib\n",
    "from tqdm import tqdm\n",
    "from sklearn.metrics import f1_score, roc_auc_score"
   ]
  },
  {
   "cell_type": "code",
   "execution_count": null,
   "id": "d75c96b5-981b-4cbb-b8dd-725f001c6297",
   "metadata": {},
   "outputs": [],
   "source": []
  },
  {
   "cell_type": "markdown",
   "id": "305ca062-a6b6-4b54-80eb-627b5b536bea",
   "metadata": {},
   "source": [
    "## F1 and AUC_ROC"
   ]
  },
  {
   "cell_type": "code",
   "execution_count": null,
   "id": "94e1a216-a2e7-4a5c-94f6-da6132f74f02",
   "metadata": {},
   "outputs": [],
   "source": [
    "print(f'F1-score: {f1_score(results_df.true_label, results_df.predicted_label)}')\n",
    "print(f'ROC_AUC-score: {roc_auc_score(results_df.true_label, results_df.prob_male)}')"
   ]
  }
 ],
 "metadata": {
  "kernelspec": {
   "display_name": "Python (brain_model_env)",
   "language": "python",
   "name": "brain_model_env"
  },
  "language_info": {
   "codemirror_mode": {
    "name": "ipython",
    "version": 3
   },
   "file_extension": ".py",
   "mimetype": "text/x-python",
   "name": "python",
   "nbconvert_exporter": "python",
   "pygments_lexer": "ipython3",
   "version": "3.11.6"
  }
 },
 "nbformat": 4,
 "nbformat_minor": 5
}
